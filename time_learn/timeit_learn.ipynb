{
 "cells": [
  {
   "cell_type": "code",
   "execution_count": null,
   "metadata": {},
   "outputs": [],
   "source": [
    "##https://blog.csdn.net/mzpmzk/article/details/75220819"
   ]
  },
  {
   "cell_type": "code",
   "execution_count": 3,
   "metadata": {},
   "outputs": [],
   "source": [
    "import timeit"
   ]
  },
  {
   "cell_type": "markdown",
   "metadata": {},
   "source": [
    "### timeit 模块：准确测量小段代码的执行时间"
   ]
  },
  {
   "cell_type": "markdown",
   "metadata": {},
   "source": [
    "- timeit 模块中的三个函数\n",
    "\n",
    "    - timeit.default_timer()：默认的计时器，一般是time.perf_counter()，time.perf_counter()方法能够在任一平台提供最高精度的计时器（它也只是记录了自然时间，记录自然时间会被很多其他因素影响，例如计算机的负载）\n",
    "    \n",
    "    - timeit.timeit(stmt='pass', setup='pass', timer=<default timer>, number=1000000)：创建一个Timer实例，参数分别是stmt（需要测量的语句或函数），setup（初始化代码或构建环境的导入语句），timer（计时函数），number（每一次测量中语句被执行的次数）\n",
    "    \n",
    "    - timeit.repeat(stmt='pass', setup='pass', timer=<default timer>, repeat=3, number=1000000)：创建一个Timer实例，指定整个试验的重复次数，返回一个包含了每次试验的执行时间的列表，利用这一函数可以很方便得实现多次试验取平均的方法。\n",
    "\n"
   ]
  },
  {
   "cell_type": "code",
   "execution_count": 4,
   "metadata": {},
   "outputs": [],
   "source": [
    "def test():\n",
    "    L = []\n",
    "    for i in range(100):\n",
    "        L.append(i)"
   ]
  },
  {
   "cell_type": "code",
   "execution_count": 6,
   "metadata": {},
   "outputs": [
    {
     "name": "stdout",
     "output_type": "stream",
     "text": [
      "5.6313223183045045\n",
      "cost 0.9576157384427955 seconds \n"
     ]
    }
   ],
   "source": [
    "print(timeit.timeit(\"test()\", setup=\"from __main__ import test\"))\n",
    "x = list(range(2000000))\n",
    "t0 = timeit.timeit(\"x.pop(0)\", \"from __main__ import x\", number=1000)\n",
    "print(\"cost {} seconds \".format(t0))"
   ]
  }
 ],
 "metadata": {
  "kernelspec": {
   "display_name": "Python 3",
   "language": "python",
   "name": "python3"
  },
  "language_info": {
   "codemirror_mode": {
    "name": "ipython",
    "version": 3
   },
   "file_extension": ".py",
   "mimetype": "text/x-python",
   "name": "python",
   "nbconvert_exporter": "python",
   "pygments_lexer": "ipython3",
   "version": "3.6.6"
  }
 },
 "nbformat": 4,
 "nbformat_minor": 2
}
