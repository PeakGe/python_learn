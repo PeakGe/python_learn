{
 "cells": [
  {
   "cell_type": "code",
   "execution_count": 1,
   "metadata": {},
   "outputs": [],
   "source": [
    "import numpy as np\n",
    "import pandas as pd"
   ]
  },
  {
   "cell_type": "code",
   "execution_count": 3,
   "metadata": {},
   "outputs": [
    {
     "name": "stdout",
     "output_type": "stream",
     "text": [
      "0     1.0\n",
      "1     3.0\n",
      "2     6.0\n",
      "3     NaN\n",
      "4    44.0\n",
      "5     1.0\n",
      "dtype: float64\n"
     ]
    }
   ],
   "source": [
    "#创建序列，会自动添加索引\n",
    "s=pd.Series([1,3,6,np.nan,44,1])\n",
    "print(s)"
   ]
  },
  {
   "cell_type": "code",
   "execution_count": 4,
   "metadata": {},
   "outputs": [
    {
     "name": "stdout",
     "output_type": "stream",
     "text": [
      "DatetimeIndex(['2019-04-05', '2019-04-06', '2019-04-07', '2019-04-08',\n",
      "               '2019-04-09', '2019-04-10'],\n",
      "              dtype='datetime64[ns]', freq='D')\n"
     ]
    }
   ],
   "source": [
    "#创建日期序列\n",
    "dates=pd.date_range('20190405',periods=6)\n",
    "print(dates)"
   ]
  },
  {
   "cell_type": "code",
   "execution_count": 5,
   "metadata": {},
   "outputs": [
    {
     "name": "stdout",
     "output_type": "stream",
     "text": [
      "                   a         b         c         d\n",
      "2019-04-05  0.873703  0.813456  0.390906  0.046765\n",
      "2019-04-06  0.646235  0.035209  0.304271  0.428464\n",
      "2019-04-07  0.160045  0.179792  0.761998  0.207575\n",
      "2019-04-08  0.025184  0.800106  0.279403  0.101564\n",
      "2019-04-09  0.487986  0.680443  0.964523  0.858902\n",
      "2019-04-10  0.445029  0.542690  0.500482  0.242906\n"
     ]
    }
   ],
   "source": [
    "#np矩阵初始化DataFrame，指定行索引：index，列索引：colums\n",
    "df1=pd.DataFrame(np.random.rand(6,4),index=dates,columns=['a','b','c','d'])\n",
    "print(df1)"
   ]
  },
  {
   "cell_type": "code",
   "execution_count": 13,
   "metadata": {},
   "outputs": [
    {
     "name": "stdout",
     "output_type": "stream",
     "text": [
      "     A          B    C  D      E    F\n",
      "0  1.0 2019-05-05  1.0  3   test  foo\n",
      "1  1.0 2019-05-05  1.0  3  train  foo\n",
      "2  1.0 2019-05-05  1.0  3   test  foo\n",
      "3  1.0 2019-05-05  1.0  3  train  foo\n",
      "A           float64\n",
      "B    datetime64[ns]\n",
      "C           float32\n",
      "D             int32\n",
      "E          category\n",
      "F            object\n",
      "dtype: object\n",
      "Index(['A', 'B', 'C', 'D', 'E', 'F'], dtype='object')\n",
      "[[1.0 Timestamp('2019-05-05 00:00:00') 1.0 3 'test' 'foo']\n",
      " [1.0 Timestamp('2019-05-05 00:00:00') 1.0 3 'train' 'foo']\n",
      " [1.0 Timestamp('2019-05-05 00:00:00') 1.0 3 'test' 'foo']\n",
      " [1.0 Timestamp('2019-05-05 00:00:00') 1.0 3 'train' 'foo']]\n",
      "         A    C    D\n",
      "count  4.0  4.0  4.0\n",
      "mean   1.0  1.0  3.0\n",
      "std    0.0  0.0  0.0\n",
      "min    1.0  1.0  3.0\n",
      "25%    1.0  1.0  3.0\n",
      "50%    1.0  1.0  3.0\n",
      "75%    1.0  1.0  3.0\n",
      "max    1.0  1.0  3.0\n",
      "                     0                    1                    2  \\\n",
      "A                    1                    1                    1   \n",
      "B  2019-05-05 00:00:00  2019-05-05 00:00:00  2019-05-05 00:00:00   \n",
      "C                    1                    1                    1   \n",
      "D                    3                    3                    3   \n",
      "E                 test                train                 test   \n",
      "F                  foo                  foo                  foo   \n",
      "\n",
      "                     3  \n",
      "A                    1  \n",
      "B  2019-05-05 00:00:00  \n",
      "C                    1  \n",
      "D                    3  \n",
      "E                train  \n",
      "F                  foo  \n",
      "     F      E  D    C          B    A\n",
      "0  foo   test  3  1.0 2019-05-05  1.0\n",
      "1  foo  train  3  1.0 2019-05-05  1.0\n",
      "2  foo   test  3  1.0 2019-05-05  1.0\n",
      "3  foo  train  3  1.0 2019-05-05  1.0\n",
      "     A          B    C  D      E    F\n",
      "0  1.0 2019-05-05  1.0  3   test  foo\n",
      "2  1.0 2019-05-05  1.0  3   test  foo\n",
      "1  1.0 2019-05-05  1.0  3  train  foo\n",
      "3  1.0 2019-05-05  1.0  3  train  foo\n"
     ]
    }
   ],
   "source": [
    "#使用字典初始化DataFrame的每一列\n",
    "df2=pd.DataFrame({'A':1.,\n",
    "        'B':pd.Timestamp('20190505'),\n",
    "        'C':pd.Series(1,index=list(range(4)),dtype='float32'),\n",
    "        'D':np.array([3]*4,dtype='int32'),\n",
    "        'E':pd.Categorical(['test','train','test','train']),\n",
    "        'F':'foo'\n",
    "        })\n",
    "print(df2)\n",
    "#每列数据类型\n",
    "print(df2.dtypes)\n",
    "#每列的特征名\n",
    "print(df2.columns)\n",
    "#所有特征值\n",
    "print(df2.values)\n",
    "print(df2.describe())\n",
    "#转置\n",
    "print(df2.T)\n",
    "#对根据索引排序\n",
    "#axis=0：对每一列排序\n",
    "#axis=1;对每一行排序\n",
    "#ascending=False：倒序\n",
    "print(df2.sort_index(axis=1,ascending=False))\n",
    "#对指定索引的值排序\n",
    "print(df2.sort_values(by='E'))"
   ]
  }
 ],
 "metadata": {
  "kernelspec": {
   "display_name": "Python 3",
   "language": "python",
   "name": "python3"
  },
  "language_info": {
   "codemirror_mode": {
    "name": "ipython",
    "version": 3
   },
   "file_extension": ".py",
   "mimetype": "text/x-python",
   "name": "python",
   "nbconvert_exporter": "python",
   "pygments_lexer": "ipython3",
   "version": "3.6.6"
  }
 },
 "nbformat": 4,
 "nbformat_minor": 2
}
