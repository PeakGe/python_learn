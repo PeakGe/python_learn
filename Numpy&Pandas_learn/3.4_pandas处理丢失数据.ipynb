{
 "cells": [
  {
   "cell_type": "code",
   "execution_count": 1,
   "metadata": {},
   "outputs": [],
   "source": [
    "import numpy as np\n",
    "import pandas as pd"
   ]
  },
  {
   "cell_type": "code",
   "execution_count": 2,
   "metadata": {},
   "outputs": [],
   "source": [
    "dates=pd.date_range('20190505',periods=6)\n",
    "df=pd.DataFrame(np.arange(24).reshape((6,4)),index=dates,columns=['A','B','C','D'])\n",
    "df.iloc[0,1]=np.nan\n",
    "df.iloc[1,2]=np.nan"
   ]
  },
  {
   "cell_type": "code",
   "execution_count": 8,
   "metadata": {},
   "outputs": [
    {
     "name": "stdout",
     "output_type": "stream",
     "text": [
      "             A   D\n",
      "2019-05-05   0   3\n",
      "2019-05-06   4   7\n",
      "2019-05-07   8  11\n",
      "2019-05-08  12  15\n",
      "2019-05-09  16  19\n",
      "2019-05-10  20  23\n",
      "             A     B     C   D\n",
      "2019-05-05   0   0.0   2.0   3\n",
      "2019-05-06   4   5.0   0.0   7\n",
      "2019-05-07   8   9.0  10.0  11\n",
      "2019-05-08  12  13.0  14.0  15\n",
      "2019-05-09  16  17.0  18.0  19\n",
      "2019-05-10  20  21.0  22.0  23\n",
      "True\n"
     ]
    }
   ],
   "source": [
    "#丢掉有nan的行(axis=0)或列(axis=1)\n",
    "print(df.dropna(axis=1,how='any'))#how={'any','all'}\n",
    "\n",
    "#给nan值填入指定数据\n",
    "print(df.fillna(0))\n",
    "\n",
    "#是否缺失数据\n",
    "#np.any():是否有True\n",
    "print(np.any(df.isnull())==True)"
   ]
  },
  {
   "cell_type": "code",
   "execution_count": null,
   "metadata": {},
   "outputs": [],
   "source": []
  }
 ],
 "metadata": {
  "kernelspec": {
   "display_name": "Python 3",
   "language": "python",
   "name": "python3"
  },
  "language_info": {
   "codemirror_mode": {
    "name": "ipython",
    "version": 3
   },
   "file_extension": ".py",
   "mimetype": "text/x-python",
   "name": "python",
   "nbconvert_exporter": "python",
   "pygments_lexer": "ipython3",
   "version": "3.6.6"
  }
 },
 "nbformat": 4,
 "nbformat_minor": 2
}
