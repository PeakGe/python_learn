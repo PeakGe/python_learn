{
 "cells": [
  {
   "cell_type": "code",
   "execution_count": 1,
   "metadata": {},
   "outputs": [],
   "source": [
    "import numpy as np\n",
    "import pandas as pd"
   ]
  },
  {
   "cell_type": "code",
   "execution_count": 2,
   "metadata": {},
   "outputs": [],
   "source": [
    "dates=pd.date_range('20190505',periods=6)\n",
    "df=pd.DataFrame(np.arange(24).reshape((6,4)),index=dates,columns=['A','B','C','D'])"
   ]
  },
  {
   "cell_type": "code",
   "execution_count": 3,
   "metadata": {},
   "outputs": [
    {
     "name": "stdout",
     "output_type": "stream",
     "text": [
      "             A     B     C   D   F  E\n",
      "2019-05-05   0     1     2   3 NaN  1\n",
      "2019-05-06   4  2222     6   7 NaN  2\n",
      "2019-05-07   8     0  1111  11 NaN  3\n",
      "2019-05-08  12     0    14  15 NaN  4\n",
      "2019-05-09  16     0    18  19 NaN  5\n",
      "2019-05-10  20     0    22  23 NaN  6\n"
     ]
    }
   ],
   "source": [
    "df.iloc[2,2]=1111\n",
    "df.loc['20190506','B']=2222\n",
    "df.B[df.A>4]=0\n",
    "df['F']=np.nan\n",
    "df['E']=pd.Series([1,2,3,4,5,6],index=pd.date_range('20190505',periods=6))\n",
    "print(df)"
   ]
  }
 ],
 "metadata": {
  "kernelspec": {
   "display_name": "Python 3",
   "language": "python",
   "name": "python3"
  },
  "language_info": {
   "codemirror_mode": {
    "name": "ipython",
    "version": 3
   },
   "file_extension": ".py",
   "mimetype": "text/x-python",
   "name": "python",
   "nbconvert_exporter": "python",
   "pygments_lexer": "ipython3",
   "version": "3.6.6"
  }
 },
 "nbformat": 4,
 "nbformat_minor": 2
}
