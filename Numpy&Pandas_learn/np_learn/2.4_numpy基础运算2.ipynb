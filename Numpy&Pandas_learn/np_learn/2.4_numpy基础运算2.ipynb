{
 "cells": [
  {
   "cell_type": "code",
   "execution_count": 1,
   "metadata": {},
   "outputs": [],
   "source": [
    "import numpy as np"
   ]
  },
  {
   "cell_type": "code",
   "execution_count": 2,
   "metadata": {},
   "outputs": [],
   "source": [
    "A=np.arange(0,16).reshape((2,8))"
   ]
  },
  {
   "cell_type": "code",
   "execution_count": 8,
   "metadata": {},
   "outputs": [
    {
     "name": "stdout",
     "output_type": "stream",
     "text": [
      "0\n",
      "15\n",
      "7.5\n",
      "7.5\n",
      "[  0   1   3   6  10  15  21  28  36  45  55  66  78  91 105 120]\n",
      "[[1 1 1 1 1 1 1]\n",
      " [1 1 1 1 1 1 1]]\n"
     ]
    }
   ],
   "source": [
    "#获取最小元素位置\n",
    "print(np.argmin(A))\n",
    "print(np.argmax(A))\n",
    "#平均值\n",
    "print(np.mean(A))\n",
    "#中位数\n",
    "print(np.median(A))\n",
    "#逐个与前面的值累加:cumsum\n",
    "print(np.cumsum(A))\n",
    "#累差:与前一个值的差\n",
    "print(np.diff(A))"
   ]
  },
  {
   "cell_type": "code",
   "execution_count": 12,
   "metadata": {},
   "outputs": [
    {
     "name": "stdout",
     "output_type": "stream",
     "text": [
      "[[16 15 14 13 12 11 10  9]\n",
      " [ 8  7  6  5  4  3  2  1]]\n",
      "[[ 9 10 11 12 13 14 15 16]\n",
      " [ 1  2  3  4  5  6  7  8]]\n",
      "[[16  8]\n",
      " [15  7]\n",
      " [14  6]\n",
      " [13  5]\n",
      " [12  4]\n",
      " [11  3]\n",
      " [10  2]\n",
      " [ 9  1]]\n",
      "[[16  8]\n",
      " [15  7]\n",
      " [14  6]\n",
      " [13  5]\n",
      " [12  4]\n",
      " [11  3]\n",
      " [10  2]\n",
      " [ 9  1]]\n"
     ]
    }
   ],
   "source": [
    "#逐行排序\n",
    "B=np.arange(16,0,-1).reshape((2,8))\n",
    "print(B)\n",
    "print(np.sort(B))\n",
    "#转置\n",
    "print(np.transpose(B))\n",
    "print(B.T)"
   ]
  },
  {
   "cell_type": "code",
   "execution_count": 13,
   "metadata": {},
   "outputs": [
    {
     "name": "stdout",
     "output_type": "stream",
     "text": [
      "[[5 5 5 5 5 5 6 7]\n",
      " [8 9 9 9 9 9 9 9]]\n"
     ]
    }
   ],
   "source": [
    "#根据指定最小值和最大值截取矩阵\n",
    "#小于最小值==>最小值\n",
    "#大于最大值==>最大值\n",
    "print(np.clip(A,5,9))"
   ]
  }
 ],
 "metadata": {
  "kernelspec": {
   "display_name": "Python 3",
   "language": "python",
   "name": "python3"
  },
  "language_info": {
   "codemirror_mode": {
    "name": "ipython",
    "version": 3
   },
   "file_extension": ".py",
   "mimetype": "text/x-python",
   "name": "python",
   "nbconvert_exporter": "python",
   "pygments_lexer": "ipython3",
   "version": "3.6.5"
  }
 },
 "nbformat": 4,
 "nbformat_minor": 2
}
