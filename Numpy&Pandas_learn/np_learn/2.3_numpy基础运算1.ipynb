{
 "cells": [
  {
   "cell_type": "code",
   "execution_count": 1,
   "metadata": {},
   "outputs": [],
   "source": [
    "import numpy as np"
   ]
  },
  {
   "cell_type": "code",
   "execution_count": 2,
   "metadata": {},
   "outputs": [],
   "source": [
    "#一维数组\n",
    "a=np.array([2,5,9,6])\n",
    "b=np.arange(4)"
   ]
  },
  {
   "cell_type": "code",
   "execution_count": 4,
   "metadata": {},
   "outputs": [
    {
     "name": "stdout",
     "output_type": "stream",
     "text": [
      "[ 2  6 11  9]\n",
      "[ 4 25 81 36]\n"
     ]
    }
   ],
   "source": [
    "c=a+b\n",
    "print(c)\n",
    "#次方\n",
    "d=a**2\n",
    "print(d)"
   ]
  },
  {
   "cell_type": "code",
   "execution_count": 6,
   "metadata": {},
   "outputs": [
    {
     "name": "stdout",
     "output_type": "stream",
     "text": [
      "[ 9.09297427 -9.58924275  4.12118485 -2.79415498]\n"
     ]
    }
   ],
   "source": [
    "#三角函数sin,cos,tan弧度制\n",
    "e=10*np.sin(a)\n",
    "print(e)"
   ]
  },
  {
   "cell_type": "code",
   "execution_count": 7,
   "metadata": {},
   "outputs": [
    {
     "name": "stdout",
     "output_type": "stream",
     "text": [
      "[ True  True False False]\n"
     ]
    }
   ],
   "source": [
    "print(a<6)"
   ]
  },
  {
   "cell_type": "code",
   "execution_count": 9,
   "metadata": {},
   "outputs": [
    {
     "name": "stdout",
     "output_type": "stream",
     "text": [
      "[[2 5]\n",
      " [9 6]]\n",
      "[[0 1]\n",
      " [2 3]]\n"
     ]
    }
   ],
   "source": [
    "#多维矩阵\n",
    "x=a.reshape((2,2))\n",
    "y=b.reshape((2,2))\n",
    "print(x)\n",
    "print(y)"
   ]
  },
  {
   "cell_type": "code",
   "execution_count": 12,
   "metadata": {},
   "outputs": [
    {
     "name": "stdout",
     "output_type": "stream",
     "text": [
      "[[ 0  5]\n",
      " [18 18]]\n",
      "[[10 17]\n",
      " [12 27]]\n",
      "[[10 17]\n",
      " [12 27]]\n"
     ]
    }
   ],
   "source": [
    "#矩阵元素乘\n",
    "z=x*y\n",
    "print(z)\n",
    "#矩阵乘法np.dot\n",
    "z_dot=np.dot(x,y)\n",
    "z_dot2=x.dot(y)\n",
    "print(z_dot)\n",
    "print(z_dot2)"
   ]
  },
  {
   "cell_type": "code",
   "execution_count": 16,
   "metadata": {},
   "outputs": [
    {
     "name": "stdout",
     "output_type": "stream",
     "text": [
      "[[0.02316251 0.16489228 0.6117318  0.73682831]\n",
      " [0.48227794 0.68170897 0.73913023 0.70292185]]\n",
      "求和 4.142653892115857\n",
      "最小值 0.023162505340168282\n",
      "最大值 0.7391302339386169\n",
      "[0.50544045 0.84660125 1.35086203 1.43975016]\n",
      "[1.5366149 2.606039 ]\n"
     ]
    }
   ],
   "source": [
    "s=np.random.random((2,4))\n",
    "print(s)\n",
    "print('求和',np.sum(s))\n",
    "print('最小值',np.min(s))\n",
    "print('最大值',np.max(s))\n",
    "#指定维度axis\n",
    "#axis=0:对每一列所有行计算\n",
    "#axis=1：对每一行所有列计算\n",
    "print(np.sum(s,axis=0))\n",
    "print(np.sum(s,axis=1))"
   ]
  }
 ],
 "metadata": {
  "kernelspec": {
   "display_name": "Python 3",
   "language": "python",
   "name": "python3"
  },
  "language_info": {
   "codemirror_mode": {
    "name": "ipython",
    "version": 3
   },
   "file_extension": ".py",
   "mimetype": "text/x-python",
   "name": "python",
   "nbconvert_exporter": "python",
   "pygments_lexer": "ipython3",
   "version": "3.6.5"
  }
 },
 "nbformat": 4,
 "nbformat_minor": 2
}
