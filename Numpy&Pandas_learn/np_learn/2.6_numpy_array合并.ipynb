{
 "cells": [
  {
   "cell_type": "code",
   "execution_count": 12,
   "metadata": {},
   "outputs": [],
   "source": [
    "import numpy as np"
   ]
  },
  {
   "cell_type": "code",
   "execution_count": 13,
   "metadata": {},
   "outputs": [],
   "source": [
    "A=np.array([1,1,1])\n",
    "B=np.array([2,2,2])"
   ]
  },
  {
   "cell_type": "code",
   "execution_count": 14,
   "metadata": {},
   "outputs": [
    {
     "name": "stdout",
     "output_type": "stream",
     "text": [
      "(3,) (2, 3)\n"
     ]
    }
   ],
   "source": [
    "#vstack:垂直合并，行数增加\n",
    "C=np.vstack((A,B))\n",
    "print(A.shape,C.shape)"
   ]
  },
  {
   "cell_type": "code",
   "execution_count": 15,
   "metadata": {},
   "outputs": [
    {
     "name": "stdout",
     "output_type": "stream",
     "text": [
      "(3,) (6,)\n"
     ]
    }
   ],
   "source": [
    "#hstack:水平合并,列数增加\n",
    "D=np.hstack((A,B))\n",
    "print(A.shape,D.shape)"
   ]
  },
  {
   "cell_type": "code",
   "execution_count": 16,
   "metadata": {},
   "outputs": [
    {
     "name": "stdout",
     "output_type": "stream",
     "text": [
      "(3, 1)\n",
      "(3, 2)\n"
     ]
    }
   ],
   "source": [
    "A=np.array([1,1,1])[:,np.newaxis]\n",
    "B=np.array([2,2,2])[:,np.newaxis]\n",
    "print(A.shape)\n",
    "E=np.hstack((A,B))\n",
    "print(E.shape)"
   ]
  },
  {
   "cell_type": "code",
   "execution_count": 17,
   "metadata": {},
   "outputs": [
    {
     "name": "stdout",
     "output_type": "stream",
     "text": [
      "(12, 1)\n",
      "(3, 4)\n"
     ]
    }
   ],
   "source": [
    "#concatenate\n",
    "#A/B=[3,1]\n",
    "M=np.concatenate((A,B,B,A),axis=0)\n",
    "N=np.concatenate((A,B,B,A),axis=1)\n",
    "\n",
    "print(M.shape)\n",
    "print(N.shape)"
   ]
  },
  {
   "cell_type": "code",
   "execution_count": null,
   "metadata": {},
   "outputs": [],
   "source": []
  }
 ],
 "metadata": {
  "kernelspec": {
   "display_name": "Python 3",
   "language": "python",
   "name": "python3"
  },
  "language_info": {
   "codemirror_mode": {
    "name": "ipython",
    "version": 3
   },
   "file_extension": ".py",
   "mimetype": "text/x-python",
   "name": "python",
   "nbconvert_exporter": "python",
   "pygments_lexer": "ipython3",
   "version": "3.6.5"
  }
 },
 "nbformat": 4,
 "nbformat_minor": 2
}
