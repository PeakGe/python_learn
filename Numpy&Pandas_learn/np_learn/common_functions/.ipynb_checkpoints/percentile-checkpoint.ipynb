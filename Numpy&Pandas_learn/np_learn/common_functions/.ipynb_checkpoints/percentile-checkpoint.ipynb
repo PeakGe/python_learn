{
 "cells": [
  {
   "cell_type": "code",
   "execution_count": 1,
   "metadata": {},
   "outputs": [],
   "source": [
    "import numpy as np"
   ]
  },
  {
   "cell_type": "markdown",
   "metadata": {},
   "source": [
    "### numpy.percentile\n",
    "#### numpy.percentile（a，q，axis = None，out = None，overwrite_input = False，interpolation ='linear'，keepdims = False）\n",
    "\n",
    "计算沿指定轴的数据的第q个百分位数，返回数组元素的第q个百分位数\n",
    "\n",
    "参数：\n",
    "- a：array_like 输入可转换为数组的数组或对象。\n",
    "\n",
    "- q：array_like的float 要计算的百分位数或百分位数序列，必须介于0和100之间（包括0和100）。\n",
    "\n",
    "- axis：{int，int of int，None}，可选 计算百分位数的轴或轴。默认设置是计算沿阵列扁平版本的百分位数。\n",
    "\n",
    "- out：ndarray，可选 替代输出数组，用于放置结果。它必须具有与预期输出相同的形状和缓冲区长度，但必要时将转换类型（输出）。\n",
    "\n",
    "- overwrite_input：bool，可选 如果为True，则允许通过中间计算修改输入数组a，以节省内存。在这种情况下，此函数完成后输入a的内容未定义。\n",
    "\n",
    "- interpolation:{‘linear’, ‘lower’, ‘higher’, ‘midpoint’, ‘nearest’} 此可选参数指定当所需百分位数位于两个数据点i <j之间时使用的插值方法：\n",
    "\n",
    "    - 'linear'：i +（j  -  i）* fraction，其中fraction是由i和j包围的索引的小数部分\n",
    "    - 'lower'：i\n",
    "    - 'higher'：j\n",
    "    - 'nearest'：i或j，以最近者为准\n",
    "    - 'midpoint':( i + j）/ 2\n",
    "\n",
    "- keepdims：bool，可选 如果将其设置为True，则缩小的轴将作为尺寸为1的尺寸保留在结果中。使用此选项，结果将正确地对原始数组a广播。\n",
    "\n",
    "返回：\n",
    "\n",
    "百分位数：标量或ndarray\n",
    "\n",
    "如果q是单个百分位且轴=无，则结果是标量。如果给出多个百分位数，则结果的第一轴对应于百分位数。其他轴是减少a后剩余的轴。如果输入包含小于float64的整数或浮点数，则输出数据类型为float64。否则，输出数据类型与输入数据类型相同。如果指定了out，则返回该数组。\n"
   ]
  },
  {
   "cell_type": "code",
   "execution_count": 2,
   "metadata": {},
   "outputs": [],
   "source": [
    "a=np.arange(1,101)"
   ]
  },
  {
   "cell_type": "markdown",
   "metadata": {},
   "source": [
    "求前50%分位的数,即中位数"
   ]
  },
  {
   "cell_type": "code",
   "execution_count": 3,
   "metadata": {},
   "outputs": [
    {
     "data": {
      "text/plain": [
       "50.5"
      ]
     },
     "execution_count": 3,
     "metadata": {},
     "output_type": "execute_result"
    }
   ],
   "source": [
    "x=np.percentile(a,50)\n",
    "x"
   ]
  },
  {
   "cell_type": "code",
   "execution_count": 9,
   "metadata": {},
   "outputs": [
    {
     "name": "stdout",
     "output_type": "stream",
     "text": [
      "1.0 100.0\n"
     ]
    }
   ],
   "source": [
    "x1,x2=np.percentile(a,(0,100))\n",
    "print(x1,x2)"
   ]
  },
  {
   "cell_type": "code",
   "execution_count": 5,
   "metadata": {},
   "outputs": [],
   "source": [
    "b=np.array([[10, 7, 4], [3, 2, 1]])"
   ]
  },
  {
   "cell_type": "code",
   "execution_count": 7,
   "metadata": {},
   "outputs": [
    {
     "data": {
      "text/plain": [
       "3.5"
      ]
     },
     "execution_count": 7,
     "metadata": {},
     "output_type": "execute_result"
    }
   ],
   "source": [
    "#排序之后的中位数\n",
    "y=np.percentile(b,50)\n",
    "y"
   ]
  },
  {
   "cell_type": "code",
   "execution_count": 12,
   "metadata": {},
   "outputs": [
    {
     "data": {
      "text/plain": [
       "array([6.5, 4.5, 2.5])"
      ]
     },
     "execution_count": 12,
     "metadata": {},
     "output_type": "execute_result"
    }
   ],
   "source": [
    "np.percentile(b, 50, axis=0)#axis为0，在纵列上求"
   ]
  },
  {
   "cell_type": "code",
   "execution_count": 13,
   "metadata": {},
   "outputs": [
    {
     "data": {
      "text/plain": [
       "array([7., 2.])"
      ]
     },
     "execution_count": 13,
     "metadata": {},
     "output_type": "execute_result"
    }
   ],
   "source": [
    "np.percentile(b, 50, axis=1) #axis为1，在横行上求"
   ]
  },
  {
   "cell_type": "code",
   "execution_count": null,
   "metadata": {},
   "outputs": [],
   "source": []
  }
 ],
 "metadata": {
  "kernelspec": {
   "display_name": "Python 3",
   "language": "python",
   "name": "python3"
  },
  "language_info": {
   "codemirror_mode": {
    "name": "ipython",
    "version": 3
   },
   "file_extension": ".py",
   "mimetype": "text/x-python",
   "name": "python",
   "nbconvert_exporter": "python",
   "pygments_lexer": "ipython3",
   "version": "3.6.6"
  }
 },
 "nbformat": 4,
 "nbformat_minor": 2
}
