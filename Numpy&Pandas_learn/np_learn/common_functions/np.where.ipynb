{
 "cells": [
  {
   "cell_type": "markdown",
   "metadata": {},
   "source": [
    "## 1.np.where(condition,x,y)\n",
    "- 满足条件(condition)的位置，输出x，不满足condition的位置输出y"
   ]
  },
  {
   "cell_type": "code",
   "execution_count": 2,
   "metadata": {},
   "outputs": [],
   "source": [
    "import numpy as np"
   ]
  },
  {
   "cell_type": "code",
   "execution_count": 12,
   "metadata": {},
   "outputs": [
    {
     "data": {
      "text/plain": [
       "array([[1, 8],\n",
       "       [3, 4]])"
      ]
     },
     "execution_count": 12,
     "metadata": {},
     "output_type": "execute_result"
    }
   ],
   "source": [
    "x=np.where([[True,False], [True,True]],    # 官网上的例子\n",
    "             [[1,2], [3,4]],\n",
    "             [[9,8], [7,6]])\n",
    "x"
   ]
  },
  {
   "cell_type": "markdown",
   "metadata": {},
   "source": [
    "## 2. np.where(condition)\n",
    "- 只有条件 (condition)，没有x和y，则输出满足条件 (即非0) 元素的坐标 (等价于numpy.nonzero)。这里的坐标以tuple的形式给出，通常原数组有多少维，输出的tuple中就包含几个数组，分别对应符合条件元素的各维坐标。"
   ]
  },
  {
   "cell_type": "code",
   "execution_count": 7,
   "metadata": {},
   "outputs": [
    {
     "name": "stdout",
     "output_type": "stream",
     "text": [
      "[[[ 0  1  2  3]\n",
      "  [ 4  5  6  7]\n",
      "  [ 8  9 10 11]]\n",
      "\n",
      " [[12 13 14 15]\n",
      "  [16 17 18 19]\n",
      "  [20 21 22 23]]]\n"
     ]
    }
   ],
   "source": [
    "a=np.arange(24).reshape((2,3,4))\n",
    "print(a)"
   ]
  },
  {
   "cell_type": "code",
   "execution_count": 11,
   "metadata": {},
   "outputs": [
    {
     "name": "stdout",
     "output_type": "stream",
     "text": [
      "(array([0, 0, 0, 0, 0, 0, 1, 1, 1, 1, 1, 1], dtype=int64), array([0, 0, 1, 1, 2, 2, 0, 0, 1, 1, 2, 2], dtype=int64), array([0, 2, 0, 2, 0, 2, 0, 2, 0, 2, 0, 2], dtype=int64))\n",
      "[[0 0 0 0 0 0 1 1 1 1 1 1]\n",
      " [0 0 1 1 2 2 0 0 1 1 2 2]\n",
      " [0 2 0 2 0 2 0 2 0 2 0 2]]\n",
      "[[0 0 0]\n",
      " [0 0 2]\n",
      " [0 1 0]\n",
      " [0 1 2]\n",
      " [0 2 0]\n",
      " [0 2 2]\n",
      " [1 0 0]\n",
      " [1 0 2]\n",
      " [1 1 0]\n",
      " [1 1 2]\n",
      " [1 2 0]\n",
      " [1 2 2]]\n"
     ]
    }
   ],
   "source": [
    "#np.where返回满足condition的位置的各个维度坐标数组的元组\n",
    "index=np.where(a%2==0)\n",
    "print(index)\n",
    "#元组==>数组\n",
    "index_arr=np.array(index)\n",
    "print(index_arr)\n",
    "#转置：得到各个坐标的数组\n",
    "print(index_arr.T)"
   ]
  }
 ],
 "metadata": {
  "kernelspec": {
   "display_name": "Python 3",
   "language": "python",
   "name": "python3"
  },
  "language_info": {
   "codemirror_mode": {
    "name": "ipython",
    "version": 3
   },
   "file_extension": ".py",
   "mimetype": "text/x-python",
   "name": "python",
   "nbconvert_exporter": "python",
   "pygments_lexer": "ipython3",
   "version": "3.6.6"
  }
 },
 "nbformat": 4,
 "nbformat_minor": 2
}
