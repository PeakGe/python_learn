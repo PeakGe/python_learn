{
 "cells": [
  {
   "cell_type": "code",
   "execution_count": 1,
   "metadata": {},
   "outputs": [],
   "source": [
    "import numpy as np\n",
    "import pandas as pd"
   ]
  },
  {
   "cell_type": "code",
   "execution_count": 2,
   "metadata": {},
   "outputs": [
    {
     "name": "stdout",
     "output_type": "stream",
     "text": [
      "2019-05-05     0\n",
      "2019-05-06     4\n",
      "2019-05-07     8\n",
      "2019-05-08    12\n",
      "2019-05-09    16\n",
      "2019-05-10    20\n",
      "Freq: D, Name: A, dtype: int32 2019-05-05     0\n",
      "2019-05-06     4\n",
      "2019-05-07     8\n",
      "2019-05-08    12\n",
      "2019-05-09    16\n",
      "2019-05-10    20\n",
      "Freq: D, Name: A, dtype: int32\n",
      "            A  B   C   D\n",
      "2019-05-05  0  1   2   3\n",
      "2019-05-06  4  5   6   7\n",
      "2019-05-07  8  9  10  11             A  B   C   D\n",
      "2019-05-05  0  1   2   3\n",
      "2019-05-06  4  5   6   7\n",
      "2019-05-07  8  9  10  11\n"
     ]
    }
   ],
   "source": [
    "dates=pd.date_range('20190505',periods=6)\n",
    "df=pd.DataFrame(np.arange(24).reshape((6,4)),index=dates,columns=['A','B','C','D'])\n",
    "\n",
    "#根据索引指定获取value\n",
    "print(df['A'],df.A)\n",
    "print(df[0:3],df['20190505':'20190507'])"
   ]
  },
  {
   "cell_type": "code",
   "execution_count": 5,
   "metadata": {},
   "outputs": [
    {
     "name": "stdout",
     "output_type": "stream",
     "text": [
      "A    4\n",
      "B    5\n",
      "C    6\n",
      "D    7\n",
      "Name: 2019-05-06 00:00:00, dtype: int32\n",
      "A    4\n",
      "B    5\n",
      "Name: 2019-05-06 00:00:00, dtype: int32\n"
     ]
    }
   ],
   "source": [
    "#根据label获取数据-loc\n",
    "print(df.loc['20190506'])\n",
    "print(df.loc['20190506',['A','B']])"
   ]
  },
  {
   "cell_type": "code",
   "execution_count": 6,
   "metadata": {},
   "outputs": [
    {
     "name": "stdout",
     "output_type": "stream",
     "text": [
      "             B   C\n",
      "2019-05-06   5   6\n",
      "2019-05-08  13  14\n",
      "2019-05-10  21  22\n"
     ]
    }
   ],
   "source": [
    "#根据位置获取数据-iloc\n",
    "print(df.iloc[[1,3,5],1:3])"
   ]
  },
  {
   "cell_type": "code",
   "execution_count": 7,
   "metadata": {},
   "outputs": [
    {
     "name": "stdout",
     "output_type": "stream",
     "text": [
      "            A   C\n",
      "2019-05-05  0   2\n",
      "2019-05-06  4   6\n",
      "2019-05-07  8  10\n"
     ]
    },
    {
     "name": "stderr",
     "output_type": "stream",
     "text": [
      "E:\\Anaconda3\\envs\\py36\\lib\\site-packages\\ipykernel_launcher.py:2: DeprecationWarning: \n",
      ".ix is deprecated. Please use\n",
      ".loc for label based indexing or\n",
      ".iloc for positional indexing\n",
      "\n",
      "See the documentation here:\n",
      "http://pandas.pydata.org/pandas-docs/stable/indexing.html#ix-indexer-is-deprecated\n",
      "  \n"
     ]
    }
   ],
   "source": [
    "#混合iloc和loc，筛选\n",
    "print(df.ix[:3,['A','C']])"
   ]
  },
  {
   "cell_type": "code",
   "execution_count": 8,
   "metadata": {},
   "outputs": [
    {
     "name": "stdout",
     "output_type": "stream",
     "text": [
      "             A   B   C   D\n",
      "2019-05-08  12  13  14  15\n",
      "2019-05-09  16  17  18  19\n",
      "2019-05-10  20  21  22  23\n"
     ]
    }
   ],
   "source": [
    "#条件筛选\n",
    "print(df[df.A>8])"
   ]
  }
 ],
 "metadata": {
  "kernelspec": {
   "display_name": "Python 3",
   "language": "python",
   "name": "python3"
  },
  "language_info": {
   "codemirror_mode": {
    "name": "ipython",
    "version": 3
   },
   "file_extension": ".py",
   "mimetype": "text/x-python",
   "name": "python",
   "nbconvert_exporter": "python",
   "pygments_lexer": "ipython3",
   "version": "3.6.6"
  }
 },
 "nbformat": 4,
 "nbformat_minor": 2
}
