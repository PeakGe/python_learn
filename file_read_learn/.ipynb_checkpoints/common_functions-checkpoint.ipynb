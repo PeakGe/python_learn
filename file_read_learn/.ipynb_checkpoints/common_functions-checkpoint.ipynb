{
 "cells": [
  {
   "cell_type": "markdown",
   "metadata": {},
   "source": [
    "## strip()"
   ]
  },
  {
   "cell_type": "markdown",
   "metadata": {},
   "source": [
    "strip() 方法用于移除字符串头尾指定的字符（默认为空格或换行符）或字符序列。\n",
    "\n",
    "注意：该方法只能删除开头或是结尾的字符，不能删除中间部分的字符。\n",
    "\n",
    "**语法**\n",
    "- str.strip([chars]);\n",
    "\n",
    "**参数**\n",
    "- chars -- 移除字符串头尾指定的字符序列。\n",
    "\n",
    "**返回值**\n",
    "- 返回移除字符串头尾指定的字符生成的新字符串。"
   ]
  },
  {
   "cell_type": "markdown",
   "metadata": {},
   "source": [
    "### Example"
   ]
  },
  {
   "cell_type": "code",
   "execution_count": 16,
   "metadata": {},
   "outputs": [
    {
     "name": "stdout",
     "output_type": "stream",
     "text": [
      "0\n",
      "Runoob\n"
     ]
    }
   ],
   "source": [
    "str1 = \"00000003210Runoob01230000000\"\n",
    "print(str.strip('0'))# 去除首尾字符 0\n",
    "\n",
    "str2 = \"   Runoob      \"  # 去除首尾空格\n",
    "print(str2.strip())"
   ]
  },
  {
   "cell_type": "code",
   "execution_count": 18,
   "metadata": {},
   "outputs": [
    {
     "name": "stdout",
     "output_type": "stream",
     "text": [
      "abcrunoob\n"
     ]
    }
   ],
   "source": [
    "str = \"123abcrunoob321\"\n",
    "print (str.strip('123'))  # 字符序列为 12"
   ]
  },
  {
   "cell_type": "code",
   "execution_count": null,
   "metadata": {},
   "outputs": [],
   "source": []
  },
  {
   "cell_type": "code",
   "execution_count": null,
   "metadata": {},
   "outputs": [],
   "source": []
  },
  {
   "cell_type": "code",
   "execution_count": 21,
   "metadata": {},
   "outputs": [],
   "source": [
    "import os"
   ]
  },
  {
   "cell_type": "code",
   "execution_count": 3,
   "metadata": {},
   "outputs": [],
   "source": [
    "list_path='./train.lst'"
   ]
  },
  {
   "cell_type": "code",
   "execution_count": 19,
   "metadata": {},
   "outputs": [],
   "source": [
    "img_list = [line.strip().split() for line in open(list_path)]"
   ]
  },
  {
   "cell_type": "code",
   "execution_count": 20,
   "metadata": {},
   "outputs": [
    {
     "name": "stdout",
     "output_type": "stream",
     "text": [
      "['leftImg8bit/train/aachen/aachen_000000_000019_leftImg8bit.png', 'gtFine/train/aachen/aachen_000000_000019_gtFine_labelIds.png']\n",
      "['leftImg8bit/train/aachen/aachen_000001_000019_leftImg8bit.png', 'gtFine/train/aachen/aachen_000001_000019_gtFine_labelIds.png']\n",
      "['leftImg8bit/train/aachen/aachen_000002_000019_leftImg8bit.png', 'gtFine/train/aachen/aachen_000002_000019_gtFine_labelIds.png']\n",
      "['leftImg8bit/train/aachen/aachen_000003_000019_leftImg8bit.png', 'gtFine/train/aachen/aachen_000003_000019_gtFine_labelIds.png']\n",
      "[['leftImg8bit/train/aachen/aachen_000000_000019_leftImg8bit.png', 'gtFine/train/aachen/aachen_000000_000019_gtFine_labelIds.png'], ['leftImg8bit/train/aachen/aachen_000001_000019_leftImg8bit.png', 'gtFine/train/aachen/aachen_000001_000019_gtFine_labelIds.png'], ['leftImg8bit/train/aachen/aachen_000002_000019_leftImg8bit.png', 'gtFine/train/aachen/aachen_000002_000019_gtFine_labelIds.png'], ['leftImg8bit/train/aachen/aachen_000003_000019_leftImg8bit.png', 'gtFine/train/aachen/aachen_000003_000019_gtFine_labelIds.png'], ['leftImg8bit/train/aachen/aachen_000004_000019_leftImg8bit.png', 'gtFine/train/aachen/aachen_000004_000019_gtFine_labelIds.png'], ['leftImg8bit/train/aachen/aachen_000005_000019_leftImg8bit.png', 'gtFine/train/aachen/aachen_000005_000019_gtFine_labelIds.png'], ['leftImg8bit/train/aachen/aachen_000006_000019_leftImg8bit.png', 'gtFine/train/aachen/aachen_000006_000019_gtFine_labelIds.png'], ['leftImg8bit/train/aachen/aachen_000007_000019_leftImg8bit.png', 'gtFine/train/aachen/aachen_000007_000019_gtFine_labelIds.png'], ['leftImg8bit/train/aachen/aachen_000008_000019_leftImg8bit.png', 'gtFine/train/aachen/aachen_000008_000019_gtFine_labelIds.png'], ['leftImg8bit/train/aachen/aachen_000009_000019_leftImg8bit.png', 'gtFine/train/aachen/aachen_000009_000019_gtFine_labelIds.png'], ['leftImg8bit/train/aachen/aachen_000010_000019_leftImg8bit.png', 'gtFine/train/aachen/aachen_000010_000019_gtFine_labelIds.png'], ['leftImg8bit/train/aachen/aachen_000011_000019_leftImg8bit.png', 'gtFine/train/aachen/aachen_000011_000019_gtFine_labelIds.png'], ['leftImg8bit/train/aachen/aachen_000012_000019_leftImg8bit.png', 'gtFine/train/aachen/aachen_000012_000019_gtFine_labelIds.png'], ['leftImg8bit/train/aachen/aachen_000013_000019_leftImg8bit.png', 'gtFine/train/aachen/aachen_000013_000019_gtFine_labelIds.png'], ['leftImg8bit/train/aachen/aachen_000014_000019_leftImg8bit.png', 'gtFine/train/aachen/aachen_000014_000019_gtFine_labelIds.png'], ['leftImg8bit/train/aachen/aachen_000015_000019_leftImg8bit.png', 'gtFine/train/aachen/aachen_000015_000019_gtFine_labelIds.png'], ['leftImg8bit/train/aachen/aachen_000016_000019_leftImg8bit.png', 'gtFine/train/aachen/aachen_000016_000019_gtFine_labelIds.png'], ['leftImg8bit/train/aachen/aachen_000017_000019_leftImg8bit.png', 'gtFine/train/aachen/aachen_000017_000019_gtFine_labelIds.png'], ['leftImg8bit/train/aachen/aachen_000018_000019_leftImg8bit.png', 'gtFine/train/aachen/aachen_000018_000019_gtFine_labelIds.png'], ['leftImg8bit/train/aachen/aachen_000019_000019_leftImg8bit.png', 'gtFine/train/aachen/aachen_000019_000019_gtFine_labelIds.png'], ['leftImg8bit/train/aachen/aachen_000020_000019_leftImg8bit.png', 'gtFine/train/aachen/aachen_000020_000019_gtFine_labelIds.png'], ['leftImg8bit/train/aachen/aachen_000021_000019_leftImg8bit.png', 'gtFine/train/aachen/aachen_000021_000019_gtFine_labelIds.png'], ['leftImg8bit/train/aachen/aachen_000022_000019_leftImg8bit.png', 'gtFine/train/aachen/aachen_000022_000019_gtFine_labelIds.png'], ['leftImg8bit/train/aachen/aachen_000023_000019_leftImg8bit.png', 'gtFine/train/aachen/aachen_000023_000019_gtFine_labelIds.png'], ['leftImg8bit/train/aachen/aachen_000024_000019_leftImg8bit.png', 'gtFine/train/aachen/aachen_000024_000019_gtFine_labelIds.png'], ['leftImg8bit/train/aachen/aachen_000025_000019_leftImg8bit.png', 'gtFine/train/aachen/aachen_000025_000019_gtFine_labelIds.png'], ['leftImg8bit/train/aachen/aachen_000026_000019_leftImg8bit.png', 'gtFine/train/aachen/aachen_000026_000019_gtFine_labelIds.png'], ['leftImg8bit/train/aachen/aachen_000027_000019_leftImg8bit.png', 'gtFine/train/aachen/aachen_000027_000019_gtFine_labelIds.png'], ['leftImg8bit/train/aachen/aachen_000028_000019_leftImg8bit.png', 'gtFine/train/aachen/aachen_000028_000019_gtFine_labelIds.png'], ['leftImg8bit/train/aachen/aachen_000029_000019_leftImg8bit.png', 'gtFine/train/aachen/aachen_000029_000019_gtFine_labelIds.png']]\n"
     ]
    }
   ],
   "source": [
    "print(img_list[0])\n",
    "print(img_list[1])\n",
    "print(img_list[2])\n",
    "print(img_list[3])\n",
    "print(img_list)"
   ]
  },
  {
   "cell_type": "code",
   "execution_count": 23,
   "metadata": {},
   "outputs": [],
   "source": [
    "files=[]\n",
    "for item in img_list:\n",
    "    image_path, label_path = item\n",
    "    name = os.path.splitext(os.path.basename(label_path))[0]\n",
    "    files.append({\n",
    "        \"img\": image_path,\n",
    "        \"label\": label_path,\n",
    "        \"name\": name,\n",
    "        \"weight\": 1\n",
    "    })"
   ]
  },
  {
   "cell_type": "code",
   "execution_count": 25,
   "metadata": {},
   "outputs": [
    {
     "name": "stdout",
     "output_type": "stream",
     "text": [
      "{'img': 'leftImg8bit/train/aachen/aachen_000000_000019_leftImg8bit.png', 'label': 'gtFine/train/aachen/aachen_000000_000019_gtFine_labelIds.png', 'name': 'aachen_000000_000019_gtFine_labelIds', 'weight': 1}\n",
      "{'img': 'leftImg8bit/train/aachen/aachen_000001_000019_leftImg8bit.png', 'label': 'gtFine/train/aachen/aachen_000001_000019_gtFine_labelIds.png', 'name': 'aachen_000001_000019_gtFine_labelIds', 'weight': 1}\n"
     ]
    }
   ],
   "source": [
    "print(files[0])\n",
    "print(files[1])"
   ]
  }
 ],
 "metadata": {
  "kernelspec": {
   "display_name": "Python 3",
   "language": "python",
   "name": "python3"
  },
  "language_info": {
   "codemirror_mode": {
    "name": "ipython",
    "version": 3
   },
   "file_extension": ".py",
   "mimetype": "text/x-python",
   "name": "python",
   "nbconvert_exporter": "python",
   "pygments_lexer": "ipython3",
   "version": "3.6.6"
  }
 },
 "nbformat": 4,
 "nbformat_minor": 2
}
