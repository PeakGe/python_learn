{
 "cells": [
  {
   "cell_type": "code",
   "execution_count": null,
   "metadata": {},
   "outputs": [],
   "source": [
    "#https://www.jianshu.com/p/be92113116c8"
   ]
  },
  {
   "cell_type": "markdown",
   "metadata": {},
   "source": [
    "## \\*和\\*\\*"
   ]
  },
  {
   "cell_type": "markdown",
   "metadata": {},
   "source": [
    "实际上真正的Python参数传递语法是\\*和\\*\\*。\\*args和\\*\\*kwargs只是一种约定俗成的编程实践。我们也可以写成\\*vars和\\**kvars。\n",
    "\n",
    "\\*args和\\*\\*kwargs一般是用在函数定义的时候。二者的意义是允许定义的函数接受任意数目的参数。也就是说我们在函数被调用前并不知道也不限制将来函数可以接收的参数数量。在这种情况下我们可以使用\\*args和 \\*\\*kwargs。\n",
    "\n",
    "接下来我们分别分析\\*args和\\*\\*kwargs的作用。\n"
   ]
  },
  {
   "cell_type": "markdown",
   "metadata": {},
   "source": [
    "## \\*args的使用"
   ]
  },
  {
   "cell_type": "markdown",
   "metadata": {},
   "source": [
    "\\*args用来表示函数接收可变长度的**非关键字**参数列表作为函数的输入。我们可以通过以下这个例子来进一步理解\\*args。"
   ]
  },
  {
   "cell_type": "code",
   "execution_count": 1,
   "metadata": {},
   "outputs": [],
   "source": [
    "def test_args(normal_arg, *args):\n",
    "    print(\"first normal arg:\" + normal_arg)\n",
    "    for arg in args:\n",
    "        print(\"another arg through *args :\" + arg)\n"
   ]
  },
  {
   "cell_type": "code",
   "execution_count": 2,
   "metadata": {},
   "outputs": [
    {
     "name": "stdout",
     "output_type": "stream",
     "text": [
      "first normal arg:normal\n",
      "another arg through *args :python\n",
      "another arg through *args :java\n",
      "another arg through *args :C#\n"
     ]
    }
   ],
   "source": [
    "test_args(\"normal\", \"python\", \"java\", \"C#\")"
   ]
  },
  {
   "cell_type": "markdown",
   "metadata": {},
   "source": [
    "## \\*\\*kwargs的使用"
   ]
  },
  {
   "cell_type": "markdown",
   "metadata": {},
   "source": [
    "\\*\\*kwargs表示函数接收可变长度的**关键字**参数字典作为函数的输入。当我们需要函数接收带关键字的参数作为输入的时候，应当使用\\*\\*kwargs。我们可以通过以下这个例子来进一步理解\\*\\*kwargs。"
   ]
  },
  {
   "cell_type": "code",
   "execution_count": 7,
   "metadata": {},
   "outputs": [],
   "source": [
    "def test_kwargs(**kwargs):\n",
    "    if kwargs is not None:\n",
    "        for key, value in kwargs.items():\n",
    "            print(\"{} = {}\".format(key,value))\n",
    "#         Or you can visit kwargs like a dict() object\n",
    "#         for key in kwargs:\n",
    "#             print(\"{} = {}\".format(key, kwargs[key]))"
   ]
  },
  {
   "cell_type": "code",
   "execution_count": 8,
   "metadata": {},
   "outputs": [
    {
     "name": "stdout",
     "output_type": "stream",
     "text": [
      "name = python\n",
      "value = 5\n"
     ]
    }
   ],
   "source": [
    "test_kwargs(name=\"python\", value=\"5\")"
   ]
  },
  {
   "cell_type": "markdown",
   "metadata": {},
   "source": [
    "## 使用\\*args和\\*\\*kwargs来调用函数"
   ]
  },
  {
   "cell_type": "markdown",
   "metadata": {},
   "source": [
    "比如我们有如下接收普通输入参数的函数："
   ]
  },
  {
   "cell_type": "code",
   "execution_count": 9,
   "metadata": {},
   "outputs": [],
   "source": [
    "def normal_func(arg1, arg2, arg3):\n",
    "    print(\"arg1: \" + arg1)\n",
    "    print(\"arg2: \" + arg2)\n",
    "    print(\"arg3: \" + arg3)\n"
   ]
  },
  {
   "cell_type": "code",
   "execution_count": 11,
   "metadata": {},
   "outputs": [
    {
     "name": "stdout",
     "output_type": "stream",
     "text": [
      "arg1: python\n",
      "arg2: 1\n",
      "arg3: 3\n"
     ]
    }
   ],
   "source": [
    "normal_func(\"python\", '1','3')"
   ]
  },
  {
   "cell_type": "markdown",
   "metadata": {},
   "source": [
    "使用\\*args和\\*\\*kwargs来调用这个函数的代码如下："
   ]
  },
  {
   "cell_type": "code",
   "execution_count": 13,
   "metadata": {},
   "outputs": [
    {
     "name": "stdout",
     "output_type": "stream",
     "text": [
      "arg1: python\n",
      "arg2: 1\n",
      "arg3: 3\n"
     ]
    }
   ],
   "source": [
    "# 使用*args\n",
    "args_list = (\"python\",  '1','3')\n",
    "normal_func(*args_list)"
   ]
  },
  {
   "cell_type": "code",
   "execution_count": 14,
   "metadata": {},
   "outputs": [
    {
     "name": "stdout",
     "output_type": "stream",
     "text": [
      "arg1: python\n",
      "arg2: 1\n",
      "arg3: 3\n"
     ]
    }
   ],
   "source": [
    "# 使用**kwargs\n",
    "kwargs_dict = {\"arg3\": \"3\", \"arg1\": \"python\", \"arg2\": '1'}\n",
    "normal_func(**kwargs_dict)"
   ]
  }
 ],
 "metadata": {
  "kernelspec": {
   "display_name": "Python 3",
   "language": "python",
   "name": "python3"
  },
  "language_info": {
   "codemirror_mode": {
    "name": "ipython",
    "version": 3
   },
   "file_extension": ".py",
   "mimetype": "text/x-python",
   "name": "python",
   "nbconvert_exporter": "python",
   "pygments_lexer": "ipython3",
   "version": "3.6.6"
  }
 },
 "nbformat": 4,
 "nbformat_minor": 2
}
