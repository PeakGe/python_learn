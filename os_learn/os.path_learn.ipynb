{
 "cells": [
  {
   "cell_type": "code",
   "execution_count": 1,
   "metadata": {},
   "outputs": [],
   "source": [
    "import os"
   ]
  },
  {
   "cell_type": "markdown",
   "metadata": {},
   "source": [
    "### os.path.basename(path)\n",
    "- 返回文件名"
   ]
  },
  {
   "cell_type": "code",
   "execution_count": 3,
   "metadata": {},
   "outputs": [
    {
     "name": "stdout",
     "output_type": "stream",
     "text": [
      "aachen_000029_000019_gtFine_labelIds.png\n"
     ]
    }
   ],
   "source": [
    "filename=os.path.basename('gtFine/train/aachen/aachen_000029_000019_gtFine_labelIds.png')\n",
    "print(filename)"
   ]
  },
  {
   "cell_type": "markdown",
   "metadata": {},
   "source": [
    "### os.path.splitext(path)\t\n",
    "- 分割路径，返回路径名和文件扩展名的元组"
   ]
  },
  {
   "cell_type": "code",
   "execution_count": 5,
   "metadata": {},
   "outputs": [
    {
     "name": "stdout",
     "output_type": "stream",
     "text": [
      "('aachen_000029_000019_gtFine_labelIds', '.png')\n",
      "aachen_000029_000019_gtFine_labelIds\n"
     ]
    }
   ],
   "source": [
    "x=os.path.splitext(filename)\n",
    "name=x[0]\n",
    "print(x)\n",
    "print(name)"
   ]
  }
 ],
 "metadata": {
  "kernelspec": {
   "display_name": "Python 3",
   "language": "python",
   "name": "python3"
  },
  "language_info": {
   "codemirror_mode": {
    "name": "ipython",
    "version": 3
   },
   "file_extension": ".py",
   "mimetype": "text/x-python",
   "name": "python",
   "nbconvert_exporter": "python",
   "pygments_lexer": "ipython3",
   "version": "3.6.6"
  }
 },
 "nbformat": 4,
 "nbformat_minor": 2
}
