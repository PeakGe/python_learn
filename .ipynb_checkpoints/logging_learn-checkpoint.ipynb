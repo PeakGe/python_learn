{
 "cells": [
  {
   "cell_type": "code",
   "execution_count": null,
   "metadata": {},
   "outputs": [],
   "source": [
    "##https://www.cnblogs.com/dahu-daqing/p/7040764.html"
   ]
  },
  {
   "cell_type": "markdown",
   "metadata": {},
   "source": [
    "## 1 logging模块简介\n",
    "logging模块是Python内置的标准模块，主要用于输出运行日志，可以设置输出日志的等级、日志保存路径、日志文件回滚等；相比print，具备如下优点：\n",
    "- 可以通过设置不同的日志等级，在release版本中只输出重要信息，而不必显示大量的调试信息；\n",
    "- print将所有信息都输出到标准输出中，严重影响开发者从标准输出中查看其它数据；logging则可以由开发者决定将信息输出到什么地方，以及怎么输出；"
   ]
  },
  {
   "cell_type": "markdown",
   "metadata": {},
   "source": [
    "## 2 logging模块使用"
   ]
  },
  {
   "cell_type": "code",
   "execution_count": 1,
   "metadata": {},
   "outputs": [],
   "source": [
    "import logging"
   ]
  },
  {
   "cell_type": "markdown",
   "metadata": {},
   "source": [
    "### 2.1 基本使用"
   ]
  },
  {
   "cell_type": "code",
   "execution_count": 6,
   "metadata": {},
   "outputs": [
    {
     "name": "stderr",
     "output_type": "stream",
     "text": [
      "2019-05-29 17:13:30,204 - root - INFO - Start print log\n",
      "2019-05-29 17:13:30,205 - root - DEBUG - Do something\n",
      "2019-05-29 17:13:30,206 - root - WARNING - Something maybe fail.\n",
      "2019-05-29 17:13:30,207 - root - INFO - Finish\n"
     ]
    }
   ],
   "source": [
    "#配置logging基本的设置，然后在控制台输出日志，\n",
    "logging.basicConfig(level=logging.INFO,format='%(asctime)s - %(name)s - %(levelname)s - %(message)s')\n",
    "logger1 = logging.getLogger()#__name__:模块名\n",
    "\n",
    "logger1.info(\"Start print log\")\n",
    "logger1.debug(\"Do something\")\n",
    "logger1.warning(\"Something maybe fail.\")\n",
    "logger1.info(\"Finish\")"
   ]
  },
  {
   "cell_type": "code",
   "execution_count": 8,
   "metadata": {},
   "outputs": [
    {
     "name": "stdout",
     "output_type": "stream",
     "text": [
      "False\n"
     ]
    }
   ],
   "source": [
    "#logging中可以选择很多消息级别，如debug、info、warning、error以及critical。通过赋予logger或者handler不同的级别，开发者就可以只输出错误信息到特定的记录文件，或者在调试时只记录调试信息。\n",
    "\n",
    "#例如，我们将logger的级别改为DEBUG，再观察一下输出结果，\n",
    "logging.basicConfig(level=logging.DEBUG,format='%(asctime)s - %(name)s - %(levelname)s - %(message)s')\n",
    "logger2 = logging.getLogger(\"abc\")\n",
    "print(logger2==logger1)\n",
    "# logger.info(\"Start print log\")\n",
    "# logger.debug(\"Do something\")\n",
    "# logger.warning(\"Something maybe fail.\")\n",
    "# logger.info(\"Finish\")"
   ]
  },
  {
   "cell_type": "markdown",
   "metadata": {},
   "source": [
    "logging.basicConfig函数各参数：\n",
    "\n",
    "- filename：指定日志文件名；\n",
    "\n",
    "- filemode：和file函数意义相同，指定日志文件的打开模式，'w'或者'a'；\n",
    "\n",
    "- format：指定输出的格式和内容，format可以输出很多有用的信息，\n",
    "\n",
    "参数：作用\n",
    "```\n",
    "%(levelno)s：打印日志级别的数值\n",
    "%(levelname)s：打印日志级别的名称\n",
    "%(pathname)s：打印当前执行程序的路径，其实就是sys.argv[0]\n",
    "%(filename)s：打印当前执行程序名\n",
    "%(funcName)s：打印日志的当前函数\n",
    "%(lineno)d：打印日志的当前行号\n",
    "%(asctime)s：打印日志的时间\n",
    "%(thread)d：打印线程ID\n",
    "%(threadName)s：打印线程名称\n",
    "%(process)d：打印进程ID\n",
    "%(message)s：打印日志信息\n",
    "```\n",
    "- datefmt：指定时间格式，同time.strftime()；\n",
    "\n",
    "- level：设置日志级别，默认为logging.WARNNING；\n",
    "\n",
    "- stream：指定将日志的输出流，可以指定输出到sys.stderr，sys.stdout或者文件，默认输出到sys.stderr，当stream和filename同时指定时，stream被忽略；"
   ]
  },
  {
   "cell_type": "markdown",
   "metadata": {},
   "source": [
    "### 2.2 将日志写入到文件"
   ]
  },
  {
   "cell_type": "markdown",
   "metadata": {},
   "source": [
    "### 2.3 设置消息的等级"
   ]
  },
  {
   "cell_type": "markdown",
   "metadata": {},
   "source": [
    "### 2.4 捕获traceback"
   ]
  },
  {
   "cell_type": "markdown",
   "metadata": {},
   "source": [
    "### 2.5 多模块使用logging"
   ]
  },
  {
   "cell_type": "markdown",
   "metadata": {},
   "source": [
    "## 3 通过JSON或者YAML文件配置logging模块"
   ]
  },
  {
   "cell_type": "markdown",
   "metadata": {},
   "source": []
  }
 ],
 "metadata": {
  "kernelspec": {
   "display_name": "Python 3",
   "language": "python",
   "name": "python3"
  },
  "language_info": {
   "codemirror_mode": {
    "name": "ipython",
    "version": 3
   },
   "file_extension": ".py",
   "mimetype": "text/x-python",
   "name": "python",
   "nbconvert_exporter": "python",
   "pygments_lexer": "ipython3",
   "version": "3.6.6"
  }
 },
 "nbformat": 4,
 "nbformat_minor": 2
}
