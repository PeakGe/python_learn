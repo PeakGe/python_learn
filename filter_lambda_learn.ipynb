{
 "cells": [
  {
   "cell_type": "markdown",
   "metadata": {},
   "source": [
    "### 1.Lambda匿名函数\n",
    "- python 使用 lambda 来创建匿名函数。\n",
    "\n",
    "    - lambda只是一个表达式，函数体比def简单很多。\n",
    "    - lambda的主体是一个表达式，而不是一个代码块。仅仅能在lambda表达式中封装有限的逻辑进去。\n",
    "    - lambda函数拥有自己的命名空间，且不能访问自有参数列表之外或全局命名空间里的参数。\n",
    "    - 虽然lambda函数看起来只能写一行，却不等同于C或C++的内联函数，后者的目的是调用小函数时不占用栈内存从而增加运行效率。\n",
    "    \n",
    "### 语法\n",
    "- lambda函数的语法只包含一个语句，如下：\n",
    "\n",
    "```lambda [arg1 [,arg2,.....argn]]:expression```\n",
    "\n",
    "如下实例:"
   ]
  },
  {
   "cell_type": "code",
   "execution_count": 1,
   "metadata": {},
   "outputs": [
    {
     "name": "stdout",
     "output_type": "stream",
     "text": [
      "相加后的值为 :  30\n",
      "相加后的值为 :  40\n"
     ]
    }
   ],
   "source": [
    "# 可写函数说明\n",
    "sum = lambda arg1, arg2: arg1 + arg2;\n",
    " \n",
    "# 调用sum函数\n",
    "print(\"相加后的值为 : \", sum( 10, 20 ))\n",
    "print(\"相加后的值为 : \", sum( 20, 20 ))"
   ]
  },
  {
   "cell_type": "markdown",
   "metadata": {},
   "source": [
    "### 2.filter()函数\n",
    "- 描述\n",
    "    - filter() 函数用于过滤序列，过滤掉不符合条件的元素，返回一个迭代器对象，如果要转换为列表，可以使用 list() 来转换。\n",
    "\n",
    "该接收两个参数，第一个为函数，第二个为序列，序列的每个元素作为参数传递给函数进行判，然后返回 True 或 False，最后将返回 True 的元素放到新列表中。\n",
    "\n",
    "- 语法：**filter(function, iterable)**\n",
    "- 参数\n",
    "    - function -- 判断函数。\n",
    "    - iterable -- 可迭代对象。\n",
    "- 返回值：返回一个迭代器对象\n",
    "\n",
    "实例："
   ]
  },
  {
   "cell_type": "code",
   "execution_count": 4,
   "metadata": {},
   "outputs": [
    {
     "name": "stdout",
     "output_type": "stream",
     "text": [
      "<filter object at 0x0000022B59E53C18>\n",
      "[1, 3, 5, 7, 9]\n"
     ]
    }
   ],
   "source": [
    "#过滤出列表中的所有奇数：\n",
    "def is_odd(n):\n",
    "    return n % 2 == 1\n",
    "\n",
    "rawlist=[1, 2, 3, 4, 5, 6, 7, 8, 9, 10]\n",
    "tmplist = filter(is_odd,rawlist)\n",
    "print(tmplist)\n",
    "newlist = list(tmplist)\n",
    "print(newlist)"
   ]
  },
  {
   "cell_type": "markdown",
   "metadata": {},
   "source": [
    "### filter()+lambda\n",
    "\n",
    "以上函数可以用lambda表达式书写"
   ]
  },
  {
   "cell_type": "code",
   "execution_count": 5,
   "metadata": {},
   "outputs": [
    {
     "name": "stdout",
     "output_type": "stream",
     "text": [
      "<filter object at 0x0000022B59E53A58>\n",
      "[1, 3, 5, 7, 9]\n"
     ]
    }
   ],
   "source": [
    "rawlist=[1, 2, 3, 4, 5, 6, 7, 8, 9, 10]\n",
    "\n",
    "tmplist=filter(lambda n:n%2==1,rawlist)\n",
    "print(tmplist)\n",
    "\n",
    "newlist = list(tmplist)\n",
    "print(newlist)"
   ]
  }
 ],
 "metadata": {
  "kernelspec": {
   "display_name": "Python 3",
   "language": "python",
   "name": "python3"
  },
  "language_info": {
   "codemirror_mode": {
    "name": "ipython",
    "version": 3
   },
   "file_extension": ".py",
   "mimetype": "text/x-python",
   "name": "python",
   "nbconvert_exporter": "python",
   "pygments_lexer": "ipython3",
   "version": "3.6.6"
  }
 },
 "nbformat": 4,
 "nbformat_minor": 2
}
