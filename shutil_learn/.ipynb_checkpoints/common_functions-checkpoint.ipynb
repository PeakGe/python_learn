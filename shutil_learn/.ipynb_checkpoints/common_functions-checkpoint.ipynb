{
 "cells": [
  {
   "cell_type": "code",
   "execution_count": 2,
   "metadata": {},
   "outputs": [],
   "source": [
    "import shutil"
   ]
  },
  {
   "cell_type": "markdown",
   "metadata": {},
   "source": [
    "### shutil.copyfile（src，dst，*，follow_symlinks = True）###\n",
    "\n",
    "- 将名为src的文件的内容（无元数据）复制到名为dst的文件中并返回dst。 ***src和dst是以字符串形式给出的路径名。 dst必须是完整的目标文件名;*** 查看shutil.copy（）以获取接受目标目录路径的副本。 如果src和dst指定相同的文件，则引发SameFileError。\n",
    "\n",
    "- 目的地位必须是可写的; 否则，将引发OSError异常。 如果dst已经存在，它将被替换。 使用此功能无法复制特殊文件，如字符或块设备和管道。\n",
    "\n",
    "- 如果follow_symlinks为false且src是符号链接，则将创建新的符号链接，而不是复制src指向的文件。"
   ]
  },
  {
   "cell_type": "code",
   "execution_count": 5,
   "metadata": {},
   "outputs": [
    {
     "data": {
      "text/plain": [
       "'./src_dir/file_dst1.txt'"
      ]
     },
     "execution_count": 5,
     "metadata": {},
     "output_type": "execute_result"
    }
   ],
   "source": [
    "shutil.copyfile('./src_dir/file_src.txt','./src_dir/file_dst1.txt')"
   ]
  },
  {
   "cell_type": "markdown",
   "metadata": {},
   "source": [
    "### shutil.copy(src, dst, *, follow_symlinks=True) ###\n",
    "\n",
    "- 将文件src复制到文件或目录dst。 ***src和dst应该是字符串。 如果dst指定目录，则使用src中的基本文件名将文件复制到dst中。***返回新创建文件的路径。\n",
    "\n",
    "- 如果follow_symlinks为false，并且src是符号链接，则dst将创建为符号链接。 如果follow_symlinks为true且src是符号链接，则dst将是src引用的文件的副本。\n",
    "\n",
    "- copy（）复制文件数据和文件的权限模式（参见os.chmod（））。 其他元数据（如文件的创建和修改时间）不会保留。 要保留原始文件中的所有文件元数据，请改用copy2（）。"
   ]
  },
  {
   "cell_type": "code",
   "execution_count": 6,
   "metadata": {},
   "outputs": [
    {
     "data": {
      "text/plain": [
       "'./src_dir/file_dst2.txt'"
      ]
     },
     "execution_count": 6,
     "metadata": {},
     "output_type": "execute_result"
    }
   ],
   "source": [
    "shutil.copy('./src_dir/file_src.txt','./src_dir/file_dst2.txt')"
   ]
  },
  {
   "cell_type": "markdown",
   "metadata": {},
   "source": [
    "### shutil.copy2（src，dst，*，follow_symlinks = True）###\n",
    "- 与copy（）相同，但copy2（）也尝试保留文件元数据。\n",
    "\n",
    "- 当follow_symlinks为false且src是符号链接时，copy2（）会尝试将所有元数据从src符号链接复制到新创建的dst符号链接。 但是，并非所有平台都提供此功能。 在部分或全部此功能不可用的平台上，copy2（）将保留所有可用的元数据; copy2（）永远不会返回失败。\n",
    "\n",
    "- copy2（）使用copystat（）来复制文件元数据。 有关修改符号链接元数据的平台支持的更多信息，请参阅copystat（）。"
   ]
  },
  {
   "cell_type": "code",
   "execution_count": 7,
   "metadata": {},
   "outputs": [
    {
     "data": {
      "text/plain": [
       "'./src_dir/file_dst3.txt'"
      ]
     },
     "execution_count": 7,
     "metadata": {},
     "output_type": "execute_result"
    }
   ],
   "source": [
    "shutil.copy2('./src_dir/file_src.txt','./src_dir/file_dst3.txt')"
   ]
  },
  {
   "cell_type": "markdown",
   "metadata": {},
   "source": [
    "### shutil.ignore_patterns（*pattern）--（忽略哪个文件，有选择性的拷贝）###\n",
    "\n",
    "- 这个工厂函数创建一个函数，可以用作copytree（）的ignore参数的可调用函数，忽略与提供的一个glob样式模式匹配的文件和目录。请参阅下面的示例。"
   ]
  },
  {
   "cell_type": "markdown",
   "metadata": {},
   "source": [
    "### shutil.copytree（src，dst，symlinks = False，ignore = None，copy_function = copy2，ignore_dangling_symlinks = False）###\n",
    "- 递归复制以src为根的整个目录树，返回目标目录。目标目录（由dst命名）必须不存在;它将被创建以及缺少父目录。使用copystat（）复制目录的权限和时间，使用shutil.copy2（）复制单个文件。\n",
    "\n",
    "- 如果symlinks为true，则源树中的符号链接在新树中表示为符号链接，并且只要平台允许，将复制原始链接的元数据;如果为false或省略，则链接文件的内容和元数据将复制到新树中。\n",
    "\n",
    "- 当symlinks为false时，如果符号链接指向的文件不存在，则在复制过程结束时在错误异常中引发的错误列表中将添加异常。如果要使此异常静音，可以将可选的ignore_dangling_symlinks标志设置为true。请注意，此选项对不支持os.symlink（）的平台没有影响。\n",
    "\n",
    "- 如果给出了ignore，则它必须是一个可调用的，它将接收copytree（）访问的目录作为其参数，以及os.listdir（）返回的内容列表。由于copytree（）是递归调用的，因此对于每个复制的目录，将调用ignore callable一次。 callable必须返回一系列相对于当前目录的目录和文件名（即第二个参数中的项的子集）;这些名称将在复制过程中被忽略。 ignore_patterns（）可用于创建一个基于glob样式模式忽略名称的可调用对象。\n",
    "\n",
    "- 如果发生异常，则会引发错误并列出原因。\n",
    "\n",
    "- 如果给出了copy_function，则它必须是可用于复制每个文件的可调用对象。它将使用源路径和目标路径作为参数进行调用。默认情况下，使用shutil.copy2（），但可以使用任何支持相同签名的函数（如shutil.copy（））。"
   ]
  },
  {
   "cell_type": "code",
   "execution_count": null,
   "metadata": {},
   "outputs": [],
   "source": [
    "shutil.copytree('./src_dir', './dst_dir', ignore=shutil.ignore_patterns('*.pyc', 'tmp*'))"
   ]
  },
  {
   "cell_type": "markdown",
   "metadata": {},
   "source": [
    "### shutil.rmtree（path，ignore_errors = False，onerror = None）###\n",
    "\n",
    "- 删除整个目录树; path必须指向目录（但不是指向目录的符号链接）。如果ignore_errors为true，则将忽略由删除失败导致的错误;如果为false或省略，则通过调用onerror指定的处理程序来处理此类错误，或者，如果省略，则会引发异常。"
   ]
  },
  {
   "cell_type": "code",
   "execution_count": 9,
   "metadata": {},
   "outputs": [],
   "source": [
    "shutil.rmtree('./dst_dir')"
   ]
  }
 ],
 "metadata": {
  "kernelspec": {
   "display_name": "Python 3",
   "language": "python",
   "name": "python3"
  },
  "language_info": {
   "codemirror_mode": {
    "name": "ipython",
    "version": 3
   },
   "file_extension": ".py",
   "mimetype": "text/x-python",
   "name": "python",
   "nbconvert_exporter": "python",
   "pygments_lexer": "ipython3",
   "version": "3.6.6"
  }
 },
 "nbformat": 4,
 "nbformat_minor": 2
}
