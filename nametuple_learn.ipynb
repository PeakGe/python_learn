{
 "cells": [
  {
   "cell_type": "code",
   "execution_count": 2,
   "metadata": {},
   "outputs": [],
   "source": [
    "from collections import namedtuple"
   ]
  },
  {
   "cell_type": "markdown",
   "metadata": {},
   "source": [
    "## namedtuple:具名元组"
   ]
  },
  {
   "cell_type": "markdown",
   "metadata": {},
   "source": [
    "因为元组的局限性：不能为元组内部的数据进行命名，所以往往我们并不知道一个元组所要表达的意义，所以在这里引入了 collections.namedtuple 这个工厂函数，来构造一个带字段名的元组。具名元组的实例和普通元组消耗的内存一样多，因为字段名都被存在对应的类里面。这个类跟普通的对象实例比起来也要小一些，因为 Python 不会用 \\_\\_dict\\_\\_ 来存放这些实例的属性。\n",
    "\n",
    "namedtuple 对象的定义如以下格式："
   ]
  },
  {
   "cell_type": "markdown",
   "metadata": {},
   "source": [
    "collections.namedtuple(typename, field_names, verbose=False, rename=False) "
   ]
  },
  {
   "cell_type": "markdown",
   "metadata": {},
   "source": [
    "返回一个具名元组子类 typename，其中参数的意义如下：\n",
    "\n",
    "- typename：元组名称\n",
    "- field_names: 元组中元素的名称\n",
    "- rename: 如果元素名称中含有 python 的关键字，则必须设置为 rename=True\n",
    "- verbose: 默认就好"
   ]
  },
  {
   "cell_type": "markdown",
   "metadata": {},
   "source": [
    "### 实例化方法"
   ]
  },
  {
   "cell_type": "code",
   "execution_count": 9,
   "metadata": {},
   "outputs": [],
   "source": [
    "User1=namedtuple('User','name age id')\n",
    "User2=namedtuple('User',['name','age','id'])"
   ]
  },
  {
   "cell_type": "code",
   "execution_count": 10,
   "metadata": {},
   "outputs": [],
   "source": [
    "user1=User1('gefeng','22','18214731')\n",
    "user2=User1('peak','22','18214731')"
   ]
  },
  {
   "cell_type": "code",
   "execution_count": 11,
   "metadata": {},
   "outputs": [
    {
     "name": "stdout",
     "output_type": "stream",
     "text": [
      "User(name='gefeng', age='22', id='18214731')\n",
      "User(name='peak', age='22', id='18214731')\n"
     ]
    }
   ],
   "source": [
    "print(user1)\n",
    "print(user2)"
   ]
  },
  {
   "cell_type": "markdown",
   "metadata": {},
   "source": [
    "### 具名元组的特有属性:\n",
    "\n",
    "类属性 _fields：包含这个类所有字段名的元组 类方法 _make(iterable)：接受一个可迭代对象来生产这个类的实例 实例方法 _asdict()：把具名元组以 collections.OrdereDict 的形式返回，可以利用它来把元组里的信息友好的展示出来"
   ]
  },
  {
   "cell_type": "code",
   "execution_count": 12,
   "metadata": {},
   "outputs": [
    {
     "name": "stdout",
     "output_type": "stream",
     "text": [
      "('name', 'sex', 'age')\n",
      "User(name='Runoob', sex='male', age=12)\n",
      "Runoob\n",
      "male\n",
      "12\n",
      "User(name='Runoob', sex='male', age=22)\n",
      "OrderedDict([('name', 'Runoob'), ('sex', 'male'), ('age', 22)])\n"
     ]
    }
   ],
   "source": [
    "# 定义一个namedtuple类型User，并包含name，sex和age属性。\n",
    "User = namedtuple('User', ['name', 'sex', 'age'])\n",
    "\n",
    "# 创建一个User对象\n",
    "user = User(name='Runoob', sex='male', age=12)\n",
    "\n",
    "# 获取所有字段名\n",
    "print( user._fields )\n",
    "\n",
    "# 也可以通过一个list来创建一个User对象，这里注意需要使用\"_make\"方法\n",
    "user = User._make(['Runoob', 'male', 12])\n",
    "\n",
    "print( user )\n",
    "# User(name='user1', sex='male', age=12)\n",
    "\n",
    "# 获取用户的属性\n",
    "print( user.name )\n",
    "print( user.sex )\n",
    "print( user.age )\n",
    "\n",
    "# 修改对象属性，注意要使用\"_replace\"方法\n",
    "user = user._replace(age=22)\n",
    "print( user )\n",
    "# User(name='user1', sex='male', age=21)\n",
    "\n",
    "# 将User对象转换成字典，注意要使用\"_asdict\"\n",
    "print( user._asdict() )\n",
    "# OrderedDict([('name', 'Runoob'), ('sex', 'male'), ('age', 22)])"
   ]
  }
 ],
 "metadata": {
  "kernelspec": {
   "display_name": "Python 3",
   "language": "python",
   "name": "python3"
  },
  "language_info": {
   "codemirror_mode": {
    "name": "ipython",
    "version": 3
   },
   "file_extension": ".py",
   "mimetype": "text/x-python",
   "name": "python",
   "nbconvert_exporter": "python",
   "pygments_lexer": "ipython3",
   "version": "3.6.6"
  }
 },
 "nbformat": 4,
 "nbformat_minor": 2
}
